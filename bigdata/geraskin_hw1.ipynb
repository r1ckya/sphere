{
 "cells": [
  {
   "cell_type": "markdown",
   "metadata": {},
   "source": [
    "# Гераськин Ярослав"
   ]
  },
  {
   "cell_type": "markdown",
   "metadata": {},
   "source": [
    "**Общая информация**\n",
    "**Срок сдачи:** 18 октября 2017, 06:00 <br/>\n",
    "**Штраф за опоздание:** -2 балла после 06:00 18 октября, -4 балла после 06:00 25 октября, -6 баллов после 06:00 1 ноября\n",
    "\n",
    "При отправлении ДЗ указывайте фамилию в названии файла\n",
    "Присылать ДЗ необходимо в виде ссылки на свой github репозиторий в slack @alkhamush\n",
    "\n",
    "Необходимо в slack создать таск в приватный чат:\n",
    "/todo Фамилия Имя ссылка на гитхаб @alkhamush\n",
    "Пример:\n",
    "/todo Ксения Стройкова https://github.com/stroykova/spheremailru/stroykova_hw1.ipynb @alkhamush\n",
    "Дополнительно нужно просто скинуть ссылку в slack в личный чат\n",
    "\n",
    "Используйте данный Ipython Notebook при оформлении домашнего задания."
   ]
  },
  {
   "cell_type": "markdown",
   "metadata": {},
   "source": [
    "###### Задание 1 (2 баллов)\n",
    "Реализовать KNN в классе MyKNeighborsClassifier (обязательное условие: точность не ниже sklearn реализации)\n",
    "Разберитесь самостоятельно, какая мера расстояния используется в KNeighborsClassifier дефолтно и реализуйте свой алгоритм именно с этой мерой. Самостоятельно разберитесь, как считается score из KNeighborsClassifier и реализуйте аналог в своём классе. Score не должен уступать значению KNN из sklearn\n",
    "\n",
    "###### Задание 2 (2 балла)\n",
    "Добиться скорости работы на fit,  predict и predict_proba сравнимой со sklearn для iris и mnist\n",
    "Для этого используем numpy\n",
    "\n",
    "###### Задание 3 (2 балла)\n",
    "Для iris найдите такой параметр n_neighbors, при котором выдаётся наилучший score. Нарисуйте график зависимости score от n_neighbors\n",
    "\n",
    "###### Задание 4 (3 балла)\n",
    "Добавить algorithm='kd_tree' в реализацию KNN (использовать KDTree из sklearn.neighbors). Значение n_neighbors нужно взять из задания 3. Добиться скорости работы на fit,  predict и predict_proba сравнимой со sklearn для iris и mnist\n",
    "Для этого используем numpy. Score не должен уступать значению KNN из sklearn\n",
    "\n",
    "###### Задание 5 (1 балла)\n",
    "Описать для чего нужны следующие библиотеки/классы/функции (список будет ниже)\n",
    "\n",
    "**Штрафные баллы:**\n",
    "\n",
    "1. Невыполнение PEP8 -1 балл\n",
    "2. Отсутствие фамилии в имени скрипта (скрипт должен называться по аналогии со stroykova_hw1.ipynb) -1 балл\n",
    "3. Все строчки должны быть выполнены. Нужно, чтобы output команды можно было увидеть уже в git'е. В противном случае -1 балл\n",
    "4. При оформлении ДЗ нужно пользоваться данным файлом в качестве шаблона. Не нужно удалять и видоизменять структуру кода и текст. В противном случае -1 балл\n"
   ]
  },
  {
   "cell_type": "code",
   "execution_count": 1,
   "metadata": {},
   "outputs": [
    {
     "name": "stderr",
     "output_type": "stream",
     "text": [
      "/home/rickya/anaconda3/lib/python3.7/site-packages/pycodestyle.py:113: FutureWarning: Possible nested set at position 1\n",
      "  EXTRANEOUS_WHITESPACE_REGEX = re.compile(r'[[({] | []}),;:]')\n"
     ]
    }
   ],
   "source": [
    "import numpy as np\n",
    "import matplotlib.pyplot as plt\n",
    "\n",
    "import seaborn as sns\n",
    "from sklearn import datasets\n",
    "from sklearn.base import ClassifierMixin\n",
    "from sklearn.datasets import fetch_mldata\n",
    "from sklearn.neighbors.base import NeighborsBase, KNeighborsMixin, SupervisedIntegerMixin \n",
    "from sklearn.model_selection import train_test_split\n",
    "from sklearn.neighbors import KNeighborsClassifier, KDTree\n",
    "from scipy.stats import mode\n",
    "from functools import partial\n",
    "from sklearn.preprocessing import StandardScaler, MinMaxScaler\n",
    "\n",
    "%load_ext pycodestyle_magic"
   ]
  },
  {
   "cell_type": "code",
   "execution_count": 3,
   "metadata": {},
   "outputs": [],
   "source": [
    "#%%pycodestyle\n",
    "\n",
    "\n",
    "class MyKNeighborsClassifier(NeighborsBase,\n",
    "                             KNeighborsMixin,\n",
    "                             SupervisedIntegerMixin,\n",
    "                             ClassifierMixin):\n",
    "\n",
    "    def __init__(self, n_neighbors, algorithm='brute'):\n",
    "        self._n_neighbors = n_neighbors\n",
    "        self._algorithm = algorithm\n",
    "\n",
    "    def fit(self, X, y):\n",
    "        self._scaler = MinMaxScaler()\n",
    "        self._X = self._scaler.fit_transform(X.astype(np.float64))\n",
    "        self._y = y.astype(np.int32)\n",
    "        self._n_classes = np.unique(self._y).shape[0]\n",
    "\n",
    "        if self._algorithm == 'brute':\n",
    "            self._norm2 = (self._X ** 2).sum(axis=1)\n",
    "        elif self._algorithm == 'kd_tree':\n",
    "            self._kd = KDTree(self._X)\n",
    "        else:\n",
    "            raise ValueError('algorithm name should be \"brute\" or \"kd_tree\"')\n",
    "\n",
    "    def _dist(self, X):\n",
    "        norm2 = (X ** 2).sum(axis=1)\n",
    "\n",
    "        dist2 = -2 * X.dot(self._X.T)\n",
    "        dist2 += norm2[:, np.newaxis]\n",
    "        dist2 += self._norm2[np.newaxis, :]\n",
    "\n",
    "        return dist2\n",
    "\n",
    "    def _extract_neighbors(self, X):\n",
    "        X = self._scaler.transform(X.astype(np.float64))\n",
    "        if self._algorithm == 'brute':\n",
    "            bs = 1000\n",
    "            ret = np.empty((X.shape[0], self._n_neighbors), np.int32)\n",
    "            for i in range(0, X.shape[0], bs):\n",
    "                dist2 = self._dist(X[i:i + bs])\n",
    "\n",
    "                ids = np.argpartition(\n",
    "                    dist2,\n",
    "                    self._n_neighbors\n",
    "                )[:, :self._n_neighbors]\n",
    "\n",
    "                ret[i:i + bs] = self._y[ids]\n",
    "            return ret\n",
    "        elif self._algorithm == 'kd_tree':\n",
    "            ids = self._kd.query(X, k=self._n_neighbors, return_distance=False)\n",
    "            return self._y[ids]\n",
    "        else:\n",
    "            raise ValueError('algorithm name should be \"brute\" or \"kd_tree\"')\n",
    "\n",
    "    def predict(self, X):\n",
    "        neighbors = self._extract_neighbors(X)\n",
    "        return mode(neighbors, axis=1)[0].ravel()\n",
    "\n",
    "    def predict_proba(self, X):\n",
    "        neighbors = self._extract_neighbors(X)\n",
    "        counter = partial(np.bincount, minlength=self._n_classes)\n",
    "        return np.apply_along_axis(counter, 1, neighbors) / self._n_neighbors\n",
    "\n",
    "    def score(self, X, y):\n",
    "        y = y.astype(np.int32)\n",
    "        return (self.predict(X) == y).astype(np.float64).mean()"
   ]
  },
  {
   "cell_type": "markdown",
   "metadata": {},
   "source": [
    "**IRIS**"
   ]
  },
  {
   "cell_type": "code",
   "execution_count": 4,
   "metadata": {},
   "outputs": [],
   "source": [
    "seed = 4124"
   ]
  },
  {
   "cell_type": "code",
   "execution_count": 5,
   "metadata": {},
   "outputs": [],
   "source": [
    "iris = datasets.load_iris()"
   ]
  },
  {
   "cell_type": "code",
   "execution_count": 6,
   "metadata": {},
   "outputs": [],
   "source": [
    "X_train, X_test, y_train, y_test = train_test_split(iris.data, iris.target, test_size=0.1, stratify=iris.target, random_state=seed)"
   ]
  },
  {
   "cell_type": "code",
   "execution_count": 7,
   "metadata": {},
   "outputs": [],
   "source": [
    "clf = KNeighborsClassifier(n_neighbors=2)\n",
    "my_clf = MyKNeighborsClassifier(n_neighbors=2)"
   ]
  },
  {
   "cell_type": "code",
   "execution_count": 8,
   "metadata": {},
   "outputs": [
    {
     "name": "stdout",
     "output_type": "stream",
     "text": [
      "CPU times: user 3.44 ms, sys: 0 ns, total: 3.44 ms\n",
      "Wall time: 2.35 ms\n"
     ]
    },
    {
     "data": {
      "text/plain": [
       "KNeighborsClassifier(algorithm='auto', leaf_size=30, metric='minkowski',\n",
       "           metric_params=None, n_jobs=1, n_neighbors=2, p=2,\n",
       "           weights='uniform')"
      ]
     },
     "execution_count": 8,
     "metadata": {},
     "output_type": "execute_result"
    }
   ],
   "source": [
    "%time clf.fit(X_train, y_train)"
   ]
  },
  {
   "cell_type": "code",
   "execution_count": 9,
   "metadata": {},
   "outputs": [
    {
     "name": "stdout",
     "output_type": "stream",
     "text": [
      "CPU times: user 3.52 ms, sys: 0 ns, total: 3.52 ms\n",
      "Wall time: 2.3 ms\n"
     ]
    }
   ],
   "source": [
    "%time my_clf.fit(X_train, y_train)"
   ]
  },
  {
   "cell_type": "code",
   "execution_count": 10,
   "metadata": {},
   "outputs": [
    {
     "name": "stdout",
     "output_type": "stream",
     "text": [
      "CPU times: user 2.99 ms, sys: 0 ns, total: 2.99 ms\n",
      "Wall time: 2.55 ms\n"
     ]
    },
    {
     "data": {
      "text/plain": [
       "array([2, 0, 1, 2, 2, 0, 1, 2, 0, 1, 1, 0, 1, 0, 2])"
      ]
     },
     "execution_count": 10,
     "metadata": {},
     "output_type": "execute_result"
    }
   ],
   "source": [
    "%time clf.predict(X_test)"
   ]
  },
  {
   "cell_type": "code",
   "execution_count": 11,
   "metadata": {},
   "outputs": [
    {
     "name": "stdout",
     "output_type": "stream",
     "text": [
      "CPU times: user 4.08 ms, sys: 7 µs, total: 4.09 ms\n",
      "Wall time: 19.3 ms\n"
     ]
    },
    {
     "data": {
      "text/plain": [
       "array([1, 0, 1, 2, 2, 0, 1, 2, 0, 1, 1, 0, 1, 0, 2], dtype=int32)"
      ]
     },
     "execution_count": 11,
     "metadata": {},
     "output_type": "execute_result"
    }
   ],
   "source": [
    "%time my_clf.predict(X_test)"
   ]
  },
  {
   "cell_type": "code",
   "execution_count": 12,
   "metadata": {},
   "outputs": [
    {
     "name": "stdout",
     "output_type": "stream",
     "text": [
      "CPU times: user 858 µs, sys: 79 µs, total: 937 µs\n",
      "Wall time: 673 µs\n"
     ]
    }
   ],
   "source": [
    "%time a = clf.predict_proba(X_test)"
   ]
  },
  {
   "cell_type": "code",
   "execution_count": 13,
   "metadata": {},
   "outputs": [
    {
     "name": "stdout",
     "output_type": "stream",
     "text": [
      "CPU times: user 2.04 ms, sys: 117 µs, total: 2.16 ms\n",
      "Wall time: 1.32 ms\n"
     ]
    }
   ],
   "source": [
    "%time b = my_clf.predict_proba(X_test)"
   ]
  },
  {
   "cell_type": "code",
   "execution_count": 14,
   "metadata": {},
   "outputs": [
    {
     "data": {
      "text/plain": [
       "0.8666666666666667"
      ]
     },
     "execution_count": 14,
     "metadata": {},
     "output_type": "execute_result"
    }
   ],
   "source": [
    "clf.score(X_test, y_test)"
   ]
  },
  {
   "cell_type": "code",
   "execution_count": 15,
   "metadata": {},
   "outputs": [
    {
     "data": {
      "text/plain": [
       "0.9333333333333333"
      ]
     },
     "execution_count": 15,
     "metadata": {},
     "output_type": "execute_result"
    }
   ],
   "source": [
    "my_clf.score(X_test, y_test)"
   ]
  },
  {
   "cell_type": "markdown",
   "metadata": {},
   "source": [
    "Задание 3"
   ]
  },
  {
   "cell_type": "code",
   "execution_count": 16,
   "metadata": {},
   "outputs": [
    {
     "name": "stdout",
     "output_type": "stream",
     "text": [
      "Max score: 0.9333333333333333, 2 neighbors\n"
     ]
    },
    {
     "data": {
      "image/png": "[encoded data removed]",
      "text/plain": [
       "<Figure size 432x288 with 1 Axes>"
      ]
     },
     "metadata": {
      "needs_background": "light"
     },
     "output_type": "display_data"
    }
   ],
   "source": [
    "n, best = 0, 0\n",
    "scores = []\n",
    "\n",
    "for k in range(1, 21):\n",
    "    clf = MyKNeighborsClassifier(k)\n",
    "    clf.fit(X_train, y_train)\n",
    "\n",
    "    score = clf.score(X_test, y_test)\n",
    "    scores.append(score)\n",
    "    \n",
    "    if best < score:\n",
    "        n, best = k, score\n",
    "\n",
    "print('Max score: {}, {} neighbors'.format(best, n))\n",
    "\n",
    "plt.plot(range(1, 21), scores, label='score')\n",
    "plt.legend();"
   ]
  },
  {
   "cell_type": "markdown",
   "metadata": {},
   "source": [
    "**MNIST**"
   ]
  },
  {
   "cell_type": "code",
   "execution_count": 17,
   "metadata": {},
   "outputs": [],
   "source": [
    "mnist = fetch_mldata('MNIST original')"
   ]
  },
  {
   "cell_type": "code",
   "execution_count": 18,
   "metadata": {},
   "outputs": [],
   "source": [
    "X_train, X_test, y_train, y_test = train_test_split(mnist.data, mnist.target, test_size=0.1, stratify=mnist.target)"
   ]
  },
  {
   "cell_type": "code",
   "execution_count": 19,
   "metadata": {},
   "outputs": [
    {
     "data": {
      "text/plain": [
       "((63000, 784), (7000, 784))"
      ]
     },
     "execution_count": 19,
     "metadata": {},
     "output_type": "execute_result"
    }
   ],
   "source": [
    "X_train.shape, X_test.shape"
   ]
  },
  {
   "cell_type": "code",
   "execution_count": 20,
   "metadata": {},
   "outputs": [],
   "source": [
    "clf = KNeighborsClassifier(n_neighbors=2)\n",
    "my_clf = MyKNeighborsClassifier(n_neighbors=2)"
   ]
  },
  {
   "cell_type": "code",
   "execution_count": 21,
   "metadata": {},
   "outputs": [
    {
     "name": "stdout",
     "output_type": "stream",
     "text": [
      "CPU times: user 38.9 s, sys: 191 ms, total: 39.1 s\n",
      "Wall time: 39 s\n"
     ]
    },
    {
     "data": {
      "text/plain": [
       "KNeighborsClassifier(algorithm='auto', leaf_size=30, metric='minkowski',\n",
       "           metric_params=None, n_jobs=1, n_neighbors=2, p=2,\n",
       "           weights='uniform')"
      ]
     },
     "execution_count": 21,
     "metadata": {},
     "output_type": "execute_result"
    }
   ],
   "source": [
    "%time clf.fit(X_train, y_train)"
   ]
  },
  {
   "cell_type": "code",
   "execution_count": 22,
   "metadata": {},
   "outputs": [
    {
     "name": "stdout",
     "output_type": "stream",
     "text": [
      "CPU times: user 2.47 s, sys: 1.38 s, total: 3.85 s\n",
      "Wall time: 1.21 s\n"
     ]
    }
   ],
   "source": [
    "%time my_clf.fit(X_train, y_train)"
   ]
  },
  {
   "cell_type": "code",
   "execution_count": 23,
   "metadata": {},
   "outputs": [
    {
     "name": "stdout",
     "output_type": "stream",
     "text": [
      "CPU times: user 11min 54s, sys: 107 ms, total: 11min 54s\n",
      "Wall time: 11min 54s\n"
     ]
    },
    {
     "data": {
      "text/plain": [
       "array([3., 4., 7., ..., 7., 1., 7.])"
      ]
     },
     "execution_count": 23,
     "metadata": {},
     "output_type": "execute_result"
    }
   ],
   "source": [
    "%time clf.predict(X_test)"
   ]
  },
  {
   "cell_type": "code",
   "execution_count": 24,
   "metadata": {},
   "outputs": [
    {
     "name": "stdout",
     "output_type": "stream",
     "text": [
      "CPU times: user 36.3 s, sys: 2.1 s, total: 38.4 s\n",
      "Wall time: 11.6 s\n"
     ]
    },
    {
     "data": {
      "text/plain": [
       "array([3, 4, 7, ..., 7, 1, 7], dtype=int32)"
      ]
     },
     "execution_count": 24,
     "metadata": {},
     "output_type": "execute_result"
    }
   ],
   "source": [
    "%time my_clf.predict(X_test)"
   ]
  },
  {
   "cell_type": "code",
   "execution_count": 25,
   "metadata": {},
   "outputs": [
    {
     "name": "stdout",
     "output_type": "stream",
     "text": [
      "CPU times: user 10min 26s, sys: 80 ms, total: 10min 26s\n",
      "Wall time: 10min 26s\n"
     ]
    },
    {
     "data": {
      "text/plain": [
       "array([[0. , 0. , 0. , ..., 0. , 0. , 0. ],\n",
       "       [0. , 0. , 0. , ..., 0. , 0. , 0. ],\n",
       "       [0. , 0. , 0. , ..., 1. , 0. , 0. ],\n",
       "       ...,\n",
       "       [0. , 0. , 0. , ..., 1. , 0. , 0. ],\n",
       "       [0. , 0.5, 0. , ..., 0. , 0. , 0. ],\n",
       "       [0. , 0. , 0. , ..., 1. , 0. , 0. ]])"
      ]
     },
     "execution_count": 25,
     "metadata": {},
     "output_type": "execute_result"
    }
   ],
   "source": [
    "%time clf.predict_proba(X_test)"
   ]
  },
  {
   "cell_type": "code",
   "execution_count": 26,
   "metadata": {},
   "outputs": [
    {
     "name": "stdout",
     "output_type": "stream",
     "text": [
      "CPU times: user 38.5 s, sys: 2.06 s, total: 40.6 s\n",
      "Wall time: 12.3 s\n"
     ]
    },
    {
     "data": {
      "text/plain": [
       "array([[0. , 0. , 0. , ..., 0. , 0. , 0. ],\n",
       "       [0. , 0. , 0. , ..., 0. , 0. , 0. ],\n",
       "       [0. , 0. , 0. , ..., 1. , 0. , 0. ],\n",
       "       ...,\n",
       "       [0. , 0. , 0. , ..., 1. , 0. , 0. ],\n",
       "       [0. , 0.5, 0. , ..., 0. , 0. , 0. ],\n",
       "       [0. , 0. , 0. , ..., 1. , 0. , 0. ]])"
      ]
     },
     "execution_count": 26,
     "metadata": {},
     "output_type": "execute_result"
    }
   ],
   "source": [
    "%time my_clf.predict_proba(X_test)"
   ]
  },
  {
   "cell_type": "code",
   "execution_count": 27,
   "metadata": {},
   "outputs": [
    {
     "data": {
      "text/plain": [
       "0.9674285714285714"
      ]
     },
     "execution_count": 27,
     "metadata": {},
     "output_type": "execute_result"
    }
   ],
   "source": [
    "clf.score(X_test, y_test)"
   ]
  },
  {
   "cell_type": "code",
   "execution_count": 28,
   "metadata": {},
   "outputs": [
    {
     "data": {
      "text/plain": [
       "0.9674285714285714"
      ]
     },
     "execution_count": 28,
     "metadata": {},
     "output_type": "execute_result"
    }
   ],
   "source": [
    "my_clf.score(X_test, y_test)"
   ]
  },
  {
   "cell_type": "markdown",
   "metadata": {},
   "source": [
    "Задание 4"
   ]
  },
  {
   "cell_type": "code",
   "execution_count": 29,
   "metadata": {},
   "outputs": [],
   "source": [
    "clf = KNeighborsClassifier(n_neighbors=2, algorithm='kd_tree')\n",
    "my_clf = MyKNeighborsClassifier(n_neighbors=2, algorithm='kd_tree')"
   ]
  },
  {
   "cell_type": "code",
   "execution_count": 30,
   "metadata": {},
   "outputs": [],
   "source": [
    "X_train, X_test, y_train, y_test = train_test_split(mnist.data, mnist.target, test_size=0.01, stratify=mnist.target)"
   ]
  },
  {
   "cell_type": "code",
   "execution_count": 31,
   "metadata": {},
   "outputs": [
    {
     "name": "stdout",
     "output_type": "stream",
     "text": [
      "CPU times: user 31.4 s, sys: 164 ms, total: 31.5 s\n",
      "Wall time: 31.5 s\n"
     ]
    },
    {
     "data": {
      "text/plain": [
       "KNeighborsClassifier(algorithm='kd_tree', leaf_size=30, metric='minkowski',\n",
       "           metric_params=None, n_jobs=1, n_neighbors=2, p=2,\n",
       "           weights='uniform')"
      ]
     },
     "execution_count": 31,
     "metadata": {},
     "output_type": "execute_result"
    }
   ],
   "source": [
    "%time clf.fit(X_train, y_train)"
   ]
  },
  {
   "cell_type": "code",
   "execution_count": 32,
   "metadata": {},
   "outputs": [
    {
     "name": "stdout",
     "output_type": "stream",
     "text": [
      "CPU times: user 40.3 s, sys: 1.11 s, total: 41.4 s\n",
      "Wall time: 39.2 s\n"
     ]
    }
   ],
   "source": [
    "%time my_clf.fit(X_train, y_train)"
   ]
  },
  {
   "cell_type": "code",
   "execution_count": 33,
   "metadata": {},
   "outputs": [
    {
     "name": "stdout",
     "output_type": "stream",
     "text": [
      "CPU times: user 1min 12s, sys: 9 µs, total: 1min 12s\n",
      "Wall time: 1min 12s\n"
     ]
    },
    {
     "data": {
      "text/plain": [
       "array([3., 5., 4., 7., 3., 1., 5., 0., 0., 9., 9., 0., 2., 6., 9., 7., 6.,\n",
       "       2., 5., 4., 2., 2., 2., 4., 4., 4., 9., 0., 8., 3., 9., 3., 9., 1.,\n",
       "       3., 3., 4., 2., 8., 4., 8., 6., 9., 5., 5., 7., 5., 5., 1., 3., 5.,\n",
       "       1., 1., 8., 6., 8., 5., 1., 4., 3., 1., 5., 4., 9., 1., 3., 0., 7.,\n",
       "       7., 4., 5., 1., 5., 6., 9., 1., 0., 0., 9., 7., 2., 0., 3., 6., 0.,\n",
       "       5., 7., 7., 3., 7., 5., 7., 3., 0., 6., 3., 1., 5., 2., 4., 2., 5.,\n",
       "       7., 0., 2., 0., 4., 0., 4., 5., 0., 6., 0., 1., 9., 1., 7., 6., 3.,\n",
       "       6., 1., 2., 1., 9., 7., 4., 7., 1., 6., 9., 8., 6., 8., 4., 1., 8.,\n",
       "       6., 8., 9., 1., 3., 6., 3., 3., 8., 0., 4., 2., 7., 7., 7., 1., 5.,\n",
       "       8., 9., 6., 6., 9., 0., 7., 9., 5., 4., 6., 6., 1., 8., 0., 9., 1.,\n",
       "       0., 5., 0., 6., 0., 7., 7., 5., 8., 1., 8., 9., 9., 0., 2., 5., 7.,\n",
       "       1., 6., 0., 7., 4., 6., 8., 3., 6., 7., 7., 7., 3., 9., 5., 4., 1.,\n",
       "       1., 9., 0., 8., 6., 7., 0., 2., 7., 5., 3., 3., 8., 4., 6., 9., 7.,\n",
       "       2., 2., 5., 7., 2., 8., 1., 4., 3., 1., 6., 6., 1., 3., 8., 2., 2.,\n",
       "       4., 8., 0., 2., 4., 3., 9., 4., 9., 0., 8., 0., 0., 8., 9., 7., 3.,\n",
       "       0., 7., 5., 0., 0., 6., 3., 6., 1., 7., 6., 1., 6., 0., 1., 3., 7.,\n",
       "       4., 7., 8., 8., 3., 1., 3., 6., 6., 9., 3., 2., 0., 3., 5., 6., 7.,\n",
       "       0., 2., 8., 7., 2., 7., 7., 8., 2., 5., 9., 4., 4., 0., 9., 7., 4.,\n",
       "       3., 7., 8., 3., 0., 2., 9., 8., 2., 2., 1., 4., 4., 8., 1., 9., 5.,\n",
       "       1., 2., 1., 0., 8., 3., 1., 8., 9., 5., 2., 7., 4., 1., 9., 2., 7.,\n",
       "       7., 5., 3., 9., 5., 1., 5., 0., 9., 5., 1., 1., 6., 7., 3., 8., 2.,\n",
       "       8., 0., 0., 7., 9., 8., 2., 0., 7., 5., 1., 2., 3., 6., 0., 1., 4.,\n",
       "       8., 7., 4., 2., 6., 7., 6., 8., 5., 9., 8., 3., 4., 6., 1., 7., 9.,\n",
       "       4., 0., 0., 2., 8., 0., 9., 3., 9., 3., 7., 2., 7., 1., 1., 1., 0.,\n",
       "       9., 1., 0., 0., 8., 1., 3., 5., 3., 9., 3., 3., 2., 2., 6., 7., 4.,\n",
       "       0., 5., 5., 9., 0., 1., 5., 9., 0., 3., 2., 1., 6., 7., 0., 0., 6.,\n",
       "       1., 4., 5., 3., 9., 9., 7., 4., 3., 6., 2., 8., 2., 3., 6., 2., 7.,\n",
       "       4., 4., 2., 4., 8., 3., 3., 4., 0., 4., 7., 1., 3., 3., 7., 1., 2.,\n",
       "       3., 8., 2., 2., 2., 3., 4., 2., 8., 1., 5., 1., 5., 2., 9., 9., 6.,\n",
       "       0., 5., 5., 4., 6., 9., 4., 2., 9., 8., 0., 8., 4., 0., 2., 9., 8.,\n",
       "       8., 4., 2., 8., 3., 1., 1., 4., 0., 0., 4., 4., 3., 9., 7., 5., 6.,\n",
       "       5., 2., 3., 3., 9., 7., 8., 2., 6., 4., 5., 7., 5., 5., 4., 1., 5.,\n",
       "       4., 7., 0., 4., 3., 2., 3., 1., 0., 1., 7., 8., 7., 1., 5., 2., 1.,\n",
       "       7., 9., 4., 6., 8., 7., 7., 1., 4., 1., 8., 4., 1., 6., 6., 8., 0.,\n",
       "       5., 2., 2., 5., 1., 5., 8., 8., 9., 5., 0., 5., 2., 3., 4., 7., 6.,\n",
       "       9., 4., 7., 2., 3., 5., 1., 6., 9., 3., 0., 2., 6., 7., 8., 3., 1.,\n",
       "       4., 6., 0., 1., 6., 3., 5., 7., 2., 4., 9., 4., 9., 9., 4., 5., 1.,\n",
       "       4., 3., 4., 2., 8., 4., 4., 6., 5., 6., 1., 2., 1., 9., 6., 6., 6.,\n",
       "       2., 6., 6., 4., 2., 4., 4., 5., 8., 1., 3., 3., 4., 4., 6., 1., 1.,\n",
       "       3., 6., 2., 1., 5., 7., 0., 8., 8., 3., 2., 9., 0., 9., 1., 7., 1.,\n",
       "       6., 0., 6., 2., 6., 0., 3., 2., 5., 6., 1., 7., 5., 3., 7., 7., 5.,\n",
       "       8., 2., 9.])"
      ]
     },
     "execution_count": 33,
     "metadata": {},
     "output_type": "execute_result"
    }
   ],
   "source": [
    "%time clf.predict(X_test)"
   ]
  },
  {
   "cell_type": "code",
   "execution_count": 34,
   "metadata": {},
   "outputs": [
    {
     "name": "stdout",
     "output_type": "stream",
     "text": [
      "CPU times: user 1min 1s, sys: 20 ms, total: 1min 1s\n",
      "Wall time: 1min\n"
     ]
    },
    {
     "data": {
      "text/plain": [
       "array([3, 5, 4, 7, 3, 1, 5, 0, 0, 9, 9, 0, 2, 6, 9, 7, 6, 2, 5, 4, 2, 2,\n",
       "       2, 4, 4, 4, 9, 0, 8, 3, 9, 3, 9, 1, 3, 3, 4, 2, 8, 4, 8, 6, 9, 5,\n",
       "       5, 7, 5, 5, 1, 3, 5, 1, 1, 8, 6, 8, 5, 1, 4, 3, 1, 5, 4, 9, 1, 3,\n",
       "       0, 7, 7, 4, 5, 1, 5, 6, 9, 1, 0, 0, 9, 7, 2, 0, 3, 6, 0, 5, 7, 7,\n",
       "       3, 7, 5, 7, 3, 0, 6, 3, 1, 5, 2, 4, 2, 5, 7, 0, 2, 0, 4, 0, 4, 5,\n",
       "       0, 6, 0, 1, 9, 1, 7, 6, 3, 6, 1, 2, 1, 9, 7, 4, 7, 1, 6, 9, 8, 6,\n",
       "       8, 4, 1, 8, 6, 8, 9, 1, 3, 6, 3, 3, 8, 0, 4, 2, 7, 7, 7, 1, 5, 8,\n",
       "       9, 6, 6, 9, 0, 7, 9, 5, 4, 6, 6, 1, 8, 0, 9, 1, 0, 5, 0, 6, 0, 7,\n",
       "       7, 5, 8, 1, 8, 9, 9, 0, 2, 5, 7, 1, 6, 0, 7, 4, 6, 8, 3, 6, 7, 7,\n",
       "       7, 3, 9, 5, 4, 1, 1, 9, 0, 8, 6, 7, 0, 2, 7, 5, 3, 3, 8, 4, 6, 9,\n",
       "       7, 2, 2, 5, 7, 2, 8, 1, 4, 3, 1, 6, 6, 1, 3, 8, 2, 2, 4, 8, 0, 2,\n",
       "       4, 3, 9, 4, 9, 0, 8, 0, 0, 8, 9, 7, 3, 0, 7, 5, 0, 0, 6, 3, 6, 1,\n",
       "       7, 6, 1, 6, 0, 1, 3, 7, 4, 7, 8, 8, 3, 1, 3, 6, 6, 9, 3, 2, 0, 3,\n",
       "       5, 6, 7, 0, 2, 8, 7, 2, 7, 7, 8, 2, 5, 9, 4, 4, 0, 9, 7, 4, 3, 7,\n",
       "       8, 3, 0, 2, 9, 8, 2, 2, 1, 4, 4, 8, 1, 9, 5, 1, 2, 1, 0, 8, 3, 1,\n",
       "       8, 9, 5, 2, 7, 4, 1, 9, 2, 7, 7, 5, 3, 9, 5, 1, 5, 0, 9, 5, 1, 1,\n",
       "       6, 7, 3, 8, 2, 8, 0, 0, 7, 9, 8, 2, 0, 7, 5, 1, 2, 3, 6, 0, 1, 4,\n",
       "       8, 7, 4, 2, 6, 7, 6, 8, 5, 9, 8, 3, 4, 6, 1, 7, 9, 4, 0, 0, 2, 8,\n",
       "       0, 9, 3, 9, 3, 7, 2, 7, 1, 1, 1, 0, 9, 1, 0, 0, 8, 1, 3, 5, 3, 9,\n",
       "       3, 3, 2, 2, 6, 7, 4, 0, 5, 5, 9, 0, 1, 5, 9, 0, 3, 2, 1, 6, 7, 0,\n",
       "       0, 6, 1, 4, 5, 3, 9, 9, 7, 4, 3, 6, 2, 8, 2, 3, 6, 2, 7, 4, 4, 2,\n",
       "       4, 8, 3, 3, 4, 0, 4, 7, 1, 3, 3, 7, 1, 2, 3, 8, 2, 2, 2, 3, 4, 2,\n",
       "       8, 1, 5, 1, 5, 2, 9, 9, 6, 0, 5, 5, 4, 6, 9, 4, 2, 9, 8, 0, 8, 4,\n",
       "       0, 2, 9, 8, 8, 4, 2, 8, 3, 1, 1, 4, 0, 0, 4, 4, 3, 9, 7, 5, 6, 5,\n",
       "       2, 3, 3, 9, 7, 8, 2, 6, 4, 5, 7, 5, 5, 4, 1, 5, 4, 7, 0, 4, 3, 2,\n",
       "       3, 1, 0, 1, 7, 8, 7, 1, 5, 2, 1, 7, 9, 4, 6, 8, 7, 7, 1, 4, 1, 8,\n",
       "       4, 1, 6, 6, 8, 0, 5, 2, 2, 5, 1, 5, 8, 8, 9, 5, 0, 5, 2, 3, 4, 7,\n",
       "       6, 9, 4, 7, 2, 3, 5, 1, 6, 9, 3, 0, 2, 6, 7, 8, 3, 1, 4, 6, 0, 1,\n",
       "       6, 3, 5, 7, 2, 4, 9, 4, 9, 9, 4, 5, 1, 4, 3, 4, 2, 8, 4, 4, 6, 5,\n",
       "       6, 1, 2, 1, 9, 6, 6, 6, 2, 6, 6, 4, 2, 4, 4, 5, 8, 1, 3, 3, 4, 4,\n",
       "       6, 1, 1, 3, 6, 2, 1, 5, 7, 0, 8, 8, 3, 2, 9, 0, 9, 1, 7, 1, 6, 0,\n",
       "       6, 2, 6, 0, 3, 2, 5, 6, 1, 7, 5, 3, 7, 7, 5, 8, 2, 9], dtype=int32)"
      ]
     },
     "execution_count": 34,
     "metadata": {},
     "output_type": "execute_result"
    }
   ],
   "source": [
    "%time my_clf.predict(X_test)"
   ]
  },
  {
   "cell_type": "code",
   "execution_count": 35,
   "metadata": {},
   "outputs": [
    {
     "name": "stdout",
     "output_type": "stream",
     "text": [
      "CPU times: user 1min 10s, sys: 16 ms, total: 1min 10s\n",
      "Wall time: 1min 10s\n"
     ]
    },
    {
     "data": {
      "text/plain": [
       "array([[0., 0., 0., ..., 0., 0., 0.],\n",
       "       [0., 0., 0., ..., 0., 0., 0.],\n",
       "       [0., 0., 0., ..., 0., 0., 0.],\n",
       "       ...,\n",
       "       [0., 0., 0., ..., 0., 1., 0.],\n",
       "       [0., 0., 1., ..., 0., 0., 0.],\n",
       "       [0., 0., 0., ..., 0., 0., 1.]])"
      ]
     },
     "execution_count": 35,
     "metadata": {},
     "output_type": "execute_result"
    }
   ],
   "source": [
    "%time clf.predict_proba(X_test)"
   ]
  },
  {
   "cell_type": "code",
   "execution_count": 36,
   "metadata": {},
   "outputs": [
    {
     "name": "stdout",
     "output_type": "stream",
     "text": [
      "CPU times: user 59.5 s, sys: 48 ms, total: 59.5 s\n",
      "Wall time: 58.9 s\n"
     ]
    },
    {
     "data": {
      "text/plain": [
       "array([[0., 0., 0., ..., 0., 0., 0.],\n",
       "       [0., 0., 0., ..., 0., 0., 0.],\n",
       "       [0., 0., 0., ..., 0., 0., 0.],\n",
       "       ...,\n",
       "       [0., 0., 0., ..., 0., 1., 0.],\n",
       "       [0., 0., 1., ..., 0., 0., 0.],\n",
       "       [0., 0., 0., ..., 0., 0., 1.]])"
      ]
     },
     "execution_count": 36,
     "metadata": {},
     "output_type": "execute_result"
    }
   ],
   "source": [
    "%time my_clf.predict_proba(X_test)"
   ]
  },
  {
   "cell_type": "code",
   "execution_count": 37,
   "metadata": {},
   "outputs": [
    {
     "data": {
      "text/plain": [
       "0.9685714285714285"
      ]
     },
     "execution_count": 37,
     "metadata": {},
     "output_type": "execute_result"
    }
   ],
   "source": [
    "clf.score(X_test, y_test)"
   ]
  },
  {
   "cell_type": "code",
   "execution_count": 38,
   "metadata": {},
   "outputs": [
    {
     "data": {
      "text/plain": [
       "0.9685714285714285"
      ]
     },
     "execution_count": 38,
     "metadata": {},
     "output_type": "execute_result"
    }
   ],
   "source": [
    "my_clf.score(X_test, y_test)"
   ]
  },
  {
   "cell_type": "markdown",
   "metadata": {},
   "source": [
    "Задание 5"
   ]
  },
  {
   "cell_type": "markdown",
   "metadata": {},
   "source": [
    "seaborn - библиотека для визуализации данных<br/>\n",
    "matplotlib - библиотека для визуализации данных<br/>\n",
    "train_test_split - разбивает данные на тренеровочную и тестовую части<br/>\n",
    "Pipeline (from sklearn.pipeline import Pipeline) - класс, позволяющий последовательно обрабатывать данные (например PCA + KNN)<br/>\n",
    "StandardScaler (from sklearn.preprocessing import StandardScaler) - нормирует данные в отрезок (-1, 1) так, что mean=0, std=1<br/>\n",
    "ClassifierMixin - миксинг для классификаторов sklearn<br/>\n",
    "NeighborsBase - класс для оценок ближайших соседей<br/>\n",
    "KNeighborsMixin - миксинг для поиска к соседей<br/>\n",
    "SupervisedIntegerMixin - миксинг для обучения на данных (X, y)"
   ]
  }
 ],
 "metadata": {
  "kernelspec": {
   "display_name": "Python 3",
   "language": "python",
   "name": "python3"
  },
  "language_info": {
   "codemirror_mode": {
    "name": "ipython",
    "version": 3
   },
   "file_extension": ".py",
   "mimetype": "text/x-python",
   "name": "python",
   "nbconvert_exporter": "python",
   "pygments_lexer": "ipython3",
   "version": "3.7.0"
  }
 },
 "nbformat": 4,
 "nbformat_minor": 2
}
