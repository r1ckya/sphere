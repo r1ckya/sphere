{
 "cells": [
  {
   "cell_type": "markdown",
   "metadata": {},
   "source": [
    "# Гераськин Ярослав"
   ]
  },
  {
   "cell_type": "markdown",
   "metadata": {},
   "source": [
    "**Общая информация**\n",
    "**Срок сдачи:** 18 октября 2017, 06:00 <br/>\n",
    "**Штраф за опоздание:** -2 балла после 06:00 18 октября, -4 балла после 06:00 25 октября, -6 баллов после 06:00 1 ноября\n",
    "\n",
    "При отправлении ДЗ указывайте фамилию в названии файла\n",
    "Присылать ДЗ необходимо в виде ссылки на свой github репозиторий в slack @alkhamush\n",
    "\n",
    "Необходимо в slack создать таск в приватный чат:\n",
    "/todo Фамилия Имя ссылка на гитхаб @alkhamush\n",
    "Пример:\n",
    "/todo Ксения Стройкова https://github.com/stroykova/spheremailru/stroykova_hw1.ipynb @alkhamush\n",
    "Дополнительно нужно просто скинуть ссылку в slack в личный чат\n",
    "\n",
    "Используйте данный Ipython Notebook при оформлении домашнего задания."
   ]
  },
  {
   "cell_type": "markdown",
   "metadata": {},
   "source": [
    "###### Задание 1 (2 баллов)\n",
    "Реализовать KNN в классе MyKNeighborsClassifier (обязательное условие: точность не ниже sklearn реализации)\n",
    "Разберитесь самостоятельно, какая мера расстояния используется в KNeighborsClassifier дефолтно и реализуйте свой алгоритм именно с этой мерой. Самостоятельно разберитесь, как считается score из KNeighborsClassifier и реализуйте аналог в своём классе. Score не должен уступать значению KNN из sklearn\n",
    "\n",
    "###### Задание 2 (2 балла)\n",
    "Добиться скорости работы на fit,  predict и predict_proba сравнимой со sklearn для iris и mnist\n",
    "Для этого используем numpy\n",
    "\n",
    "###### Задание 3 (2 балла)\n",
    "Для iris найдите такой параметр n_neighbors, при котором выдаётся наилучший score. Нарисуйте график зависимости score от n_neighbors\n",
    "\n",
    "###### Задание 4 (3 балла)\n",
    "Добавить algorithm='kd_tree' в реализацию KNN (использовать KDTree из sklearn.neighbors). Значение n_neighbors нужно взять из задания 3. Добиться скорости работы на fit,  predict и predict_proba сравнимой со sklearn для iris и mnist\n",
    "Для этого используем numpy. Score не должен уступать значению KNN из sklearn\n",
    "\n",
    "###### Задание 5 (1 балла)\n",
    "Описать для чего нужны следующие библиотеки/классы/функции (список будет ниже)\n",
    "\n",
    "**Штрафные баллы:**\n",
    "\n",
    "1. Невыполнение PEP8 -1 балл\n",
    "2. Отсутствие фамилии в имени скрипта (скрипт должен называться по аналогии со stroykova_hw1.ipynb) -1 балл\n",
    "3. Все строчки должны быть выполнены. Нужно, чтобы output команды можно было увидеть уже в git'е. В противном случае -1 балл\n",
    "4. При оформлении ДЗ нужно пользоваться данным файлом в качестве шаблона. Не нужно удалять и видоизменять структуру кода и текст. В противном случае -1 балл\n"
   ]
  },
  {
   "cell_type": "code",
   "execution_count": 1,
   "metadata": {},
   "outputs": [
    {
     "name": "stderr",
     "output_type": "stream",
     "text": [
      "/home/rickya/anaconda3/lib/python3.7/site-packages/pycodestyle.py:113: FutureWarning: Possible nested set at position 1\n",
      "  EXTRANEOUS_WHITESPACE_REGEX = re.compile(r'[[({] | []}),;:]')\n"
     ]
    }
   ],
   "source": [
    "import numpy as np\n",
    "import matplotlib.pyplot as plt\n",
    "\n",
    "import seaborn as sns\n",
    "from sklearn import datasets\n",
    "from sklearn.base import ClassifierMixin\n",
    "from sklearn.datasets import fetch_mldata\n",
    "from sklearn.neighbors.base import NeighborsBase, KNeighborsMixin, SupervisedIntegerMixin \n",
    "from sklearn.model_selection import train_test_split\n",
    "from sklearn.neighbors import KNeighborsClassifier, KDTree\n",
    "from scipy.stats import mode\n",
    "from functools import partial\n",
    "from sklearn.preprocessing import StandardScaler, MinMaxScaler\n",
    "\n",
    "%load_ext pycodestyle_magic"
   ]
  },
  {
   "cell_type": "code",
   "execution_count": 2,
   "metadata": {},
   "outputs": [],
   "source": [
    "class MyKNeighborsClassifier(NeighborsBase,\n",
    "                             KNeighborsMixin,\n",
    "                             SupervisedIntegerMixin,\n",
    "                             ClassifierMixin):\n",
    "\n",
    "    def __init__(self, n_neighbors, algorithm='brute'):\n",
    "        self._n_neighbors = n_neighbors\n",
    "        self._algorithm = algorithm\n",
    "\n",
    "    def fit(self, X, y):\n",
    "        self._X = X.astype(np.float64)\n",
    "        self._y = y.astype(np.int32)\n",
    "        self._n_classes = np.unique(self._y).shape[0]\n",
    "\n",
    "        if self._algorithm == 'brute':\n",
    "            self._norm2 = (self._X ** 2).sum(axis=1)\n",
    "        elif self._algorithm == 'kd_tree':\n",
    "            self._kd = KDTree(self._X)\n",
    "        else:\n",
    "            raise ValueError('algorithm name should be \"brute\" or \"kd_tree\"')\n",
    "\n",
    "    def _dist(self, X):\n",
    "        norm2 = (X ** 2).sum(axis=1)\n",
    "\n",
    "        dist2 = -2 * X.dot(self._X.T)\n",
    "        dist2 += norm2[:, np.newaxis]\n",
    "        dist2 += self._norm2[np.newaxis, :]\n",
    "\n",
    "        return dist2\n",
    "\n",
    "    def _extract_neighbors(self, X):\n",
    "        X = X.astype(np.float64)\n",
    "        if self._algorithm == 'brute':\n",
    "            dist2 = self._dist(X)\n",
    "\n",
    "            ids = np.argpartition(\n",
    "                dist2,\n",
    "                self._n_neighbors\n",
    "            )[:, :self._n_neighbors]\n",
    "\n",
    "            return self._y[ids]\n",
    "        elif self._algorithm == 'kd_tree':\n",
    "            ids = self._kd.query(X, k=self._n_neighbors, return_distance=False)\n",
    "            return self._y[ids]\n",
    "        else:\n",
    "            raise ValueError('algorithm name should be \"brute\" or \"kd_tree\"')\n",
    "\n",
    "    def predict(self, X):\n",
    "        neighbors = self._extract_neighbors(X)\n",
    "        return mode(neighbors, axis=1)[0].ravel()\n",
    "\n",
    "    def predict_proba(self, X):\n",
    "        neighbors = self._extract_neighbors(X)\n",
    "        counter = partial(np.bincount, minlength=self._n_classes)\n",
    "        return np.apply_along_axis(counter, 1, neighbors) / self._n_neighbors\n",
    "\n",
    "    def score(self, X, y):\n",
    "        y = y.astype(np.int32)\n",
    "        return (self.predict(X) == y).astype(np.float64).mean()"
   ]
  },
  {
   "cell_type": "markdown",
   "metadata": {},
   "source": [
    "**IRIS**"
   ]
  },
  {
   "cell_type": "code",
   "execution_count": 3,
   "metadata": {},
   "outputs": [],
   "source": [
    "seed = 4124"
   ]
  },
  {
   "cell_type": "code",
   "execution_count": 4,
   "metadata": {},
   "outputs": [],
   "source": [
    "iris = datasets.load_iris()"
   ]
  },
  {
   "cell_type": "code",
   "execution_count": 5,
   "metadata": {},
   "outputs": [],
   "source": [
    "X_train, X_test, y_train, y_test = train_test_split(iris.data, iris.target, test_size=0.1, stratify=iris.target, random_state=seed)"
   ]
  },
  {
   "cell_type": "code",
   "execution_count": 6,
   "metadata": {},
   "outputs": [],
   "source": [
    "clf = KNeighborsClassifier(n_neighbors=2)\n",
    "my_clf = MyKNeighborsClassifier(n_neighbors=2)"
   ]
  },
  {
   "cell_type": "code",
   "execution_count": 7,
   "metadata": {},
   "outputs": [
    {
     "name": "stdout",
     "output_type": "stream",
     "text": [
      "CPU times: user 530 µs, sys: 38 µs, total: 568 µs\n",
      "Wall time: 414 µs\n"
     ]
    },
    {
     "data": {
      "text/plain": [
       "KNeighborsClassifier(algorithm='auto', leaf_size=30, metric='minkowski',\n",
       "           metric_params=None, n_jobs=1, n_neighbors=2, p=2,\n",
       "           weights='uniform')"
      ]
     },
     "execution_count": 7,
     "metadata": {},
     "output_type": "execute_result"
    }
   ],
   "source": [
    "%time clf.fit(X_train, y_train)"
   ]
  },
  {
   "cell_type": "code",
   "execution_count": 8,
   "metadata": {},
   "outputs": [
    {
     "name": "stdout",
     "output_type": "stream",
     "text": [
      "CPU times: user 488 µs, sys: 34 µs, total: 522 µs\n",
      "Wall time: 369 µs\n"
     ]
    }
   ],
   "source": [
    "%time my_clf.fit(X_train, y_train)"
   ]
  },
  {
   "cell_type": "code",
   "execution_count": 9,
   "metadata": {},
   "outputs": [
    {
     "name": "stdout",
     "output_type": "stream",
     "text": [
      "CPU times: user 865 µs, sys: 60 µs, total: 925 µs\n",
      "Wall time: 739 µs\n"
     ]
    },
    {
     "data": {
      "text/plain": [
       "array([2, 0, 1, 2, 2, 0, 1, 2, 0, 1, 1, 0, 1, 0, 2])"
      ]
     },
     "execution_count": 9,
     "metadata": {},
     "output_type": "execute_result"
    }
   ],
   "source": [
    "%time clf.predict(X_test)"
   ]
  },
  {
   "cell_type": "code",
   "execution_count": 10,
   "metadata": {},
   "outputs": [
    {
     "name": "stdout",
     "output_type": "stream",
     "text": [
      "CPU times: user 3.41 ms, sys: 181 µs, total: 3.59 ms\n",
      "Wall time: 24.3 ms\n"
     ]
    },
    {
     "data": {
      "text/plain": [
       "array([2, 0, 1, 2, 2, 0, 1, 2, 0, 1, 1, 0, 1, 0, 2], dtype=int32)"
      ]
     },
     "execution_count": 10,
     "metadata": {},
     "output_type": "execute_result"
    }
   ],
   "source": [
    "%time my_clf.predict(X_test)"
   ]
  },
  {
   "cell_type": "code",
   "execution_count": 11,
   "metadata": {},
   "outputs": [
    {
     "name": "stdout",
     "output_type": "stream",
     "text": [
      "CPU times: user 1.01 ms, sys: 68 µs, total: 1.08 ms\n",
      "Wall time: 827 µs\n"
     ]
    }
   ],
   "source": [
    "%time a = clf.predict_proba(X_test)"
   ]
  },
  {
   "cell_type": "code",
   "execution_count": 12,
   "metadata": {},
   "outputs": [
    {
     "name": "stdout",
     "output_type": "stream",
     "text": [
      "CPU times: user 0 ns, sys: 1.78 ms, total: 1.78 ms\n",
      "Wall time: 1.1 ms\n"
     ]
    }
   ],
   "source": [
    "%time b = my_clf.predict_proba(X_test)"
   ]
  },
  {
   "cell_type": "code",
   "execution_count": 13,
   "metadata": {},
   "outputs": [
    {
     "data": {
      "text/plain": [
       "0.8666666666666667"
      ]
     },
     "execution_count": 13,
     "metadata": {},
     "output_type": "execute_result"
    }
   ],
   "source": [
    "clf.score(X_test, y_test)"
   ]
  },
  {
   "cell_type": "code",
   "execution_count": 14,
   "metadata": {},
   "outputs": [
    {
     "data": {
      "text/plain": [
       "0.8666666666666667"
      ]
     },
     "execution_count": 14,
     "metadata": {},
     "output_type": "execute_result"
    }
   ],
   "source": [
    "my_clf.score(X_test, y_test)"
   ]
  },
  {
   "cell_type": "markdown",
   "metadata": {},
   "source": [
    "Задание 3"
   ]
  },
  {
   "cell_type": "code",
   "execution_count": 15,
   "metadata": {},
   "outputs": [
    {
     "name": "stdout",
     "output_type": "stream",
     "text": [
      "Max score: 0.972266666666668, 14 neighbors\n"
     ]
    },
    {
     "data": {
      "image/png": "[encoded data removed]",
      "text/plain": [
       "<Figure size 432x288 with 1 Axes>"
      ]
     },
     "metadata": {
      "needs_background": "light"
     },
     "output_type": "display_data"
    }
   ],
   "source": [
    "n, best = 0, 0\n",
    "scores = []\n",
    "n_tests = 500\n",
    "\n",
    "for k in range(1, 21):\n",
    "    clf = MyKNeighborsClassifier(k)\n",
    "    score = 0\n",
    "\n",
    "    for i in range(n_tests):\n",
    "        X_train, X_test, y_train, y_test = train_test_split(\n",
    "            iris.data,\n",
    "            iris.target,\n",
    "            test_size=0.1,\n",
    "            stratify=iris.target,\n",
    "            random_state=i\n",
    "        )\n",
    "        clf.fit(X_train, y_train)\n",
    "\n",
    "        score += clf.score(X_test, y_test)\n",
    "\n",
    "    scores.append(score / n_tests)\n",
    "\n",
    "    if best < scores[-1]:\n",
    "        n, best = k, scores[-1]\n",
    "\n",
    "print('Max score: {}, {} neighbors'.format(best, n))\n",
    "\n",
    "plt.plot(range(1, 21), scores, 'o-', label='score')\n",
    "plt.legend();"
   ]
  },
  {
   "cell_type": "markdown",
   "metadata": {},
   "source": [
    "**MNIST**"
   ]
  },
  {
   "cell_type": "code",
   "execution_count": 16,
   "metadata": {},
   "outputs": [],
   "source": [
    "mnist = fetch_mldata('MNIST original')"
   ]
  },
  {
   "cell_type": "code",
   "execution_count": 17,
   "metadata": {},
   "outputs": [],
   "source": [
    "X_train, X_test, y_train, y_test = train_test_split(mnist.data, mnist.target, test_size=0.01, stratify=mnist.target)"
   ]
  },
  {
   "cell_type": "code",
   "execution_count": 18,
   "metadata": {},
   "outputs": [
    {
     "data": {
      "text/plain": [
       "((69300, 784), (700, 784))"
      ]
     },
     "execution_count": 18,
     "metadata": {},
     "output_type": "execute_result"
    }
   ],
   "source": [
    "X_train.shape, X_test.shape"
   ]
  },
  {
   "cell_type": "code",
   "execution_count": 19,
   "metadata": {},
   "outputs": [],
   "source": [
    "clf = KNeighborsClassifier(n_neighbors=2)\n",
    "my_clf = MyKNeighborsClassifier(n_neighbors=2)"
   ]
  },
  {
   "cell_type": "code",
   "execution_count": 20,
   "metadata": {},
   "outputs": [
    {
     "name": "stdout",
     "output_type": "stream",
     "text": [
      "CPU times: user 32.6 s, sys: 160 ms, total: 32.8 s\n",
      "Wall time: 32.7 s\n"
     ]
    },
    {
     "data": {
      "text/plain": [
       "KNeighborsClassifier(algorithm='auto', leaf_size=30, metric='minkowski',\n",
       "           metric_params=None, n_jobs=1, n_neighbors=2, p=2,\n",
       "           weights='uniform')"
      ]
     },
     "execution_count": 20,
     "metadata": {},
     "output_type": "execute_result"
    }
   ],
   "source": [
    "%time clf.fit(X_train, y_train)"
   ]
  },
  {
   "cell_type": "code",
   "execution_count": 21,
   "metadata": {},
   "outputs": [
    {
     "name": "stdout",
     "output_type": "stream",
     "text": [
      "CPU times: user 223 ms, sys: 228 ms, total: 452 ms\n",
      "Wall time: 217 ms\n"
     ]
    }
   ],
   "source": [
    "%time my_clf.fit(X_train, y_train)"
   ]
  },
  {
   "cell_type": "code",
   "execution_count": 22,
   "metadata": {},
   "outputs": [
    {
     "name": "stdout",
     "output_type": "stream",
     "text": [
      "CPU times: user 1min 13s, sys: 51.5 ms, total: 1min 13s\n",
      "Wall time: 1min 12s\n"
     ]
    },
    {
     "data": {
      "text/plain": [
       "array([5., 0., 8., 8., 1., 0., 7., 1., 1., 1., 2., 8., 3., 7., 2., 0., 2.,\n",
       "       0., 0., 5., 7., 5., 1., 3., 2., 3., 4., 4., 3., 6., 8., 9., 4., 0.,\n",
       "       7., 3., 1., 8., 1., 1., 1., 6., 6., 4., 2., 2., 6., 4., 2., 9., 1.,\n",
       "       7., 6., 3., 5., 0., 0., 0., 9., 5., 6., 5., 6., 8., 2., 4., 8., 9.,\n",
       "       9., 7., 9., 3., 3., 9., 6., 6., 0., 6., 7., 8., 2., 7., 8., 2., 5.,\n",
       "       6., 9., 8., 3., 9., 5., 5., 5., 7., 5., 4., 0., 3., 7., 4., 1., 6.,\n",
       "       1., 9., 2., 0., 9., 6., 7., 1., 3., 5., 4., 0., 6., 7., 6., 5., 5.,\n",
       "       8., 4., 4., 3., 7., 4., 5., 2., 0., 0., 4., 1., 0., 0., 1., 1., 3.,\n",
       "       4., 0., 7., 7., 3., 1., 0., 2., 3., 1., 7., 0., 3., 6., 7., 1., 9.,\n",
       "       1., 9., 2., 3., 7., 3., 0., 3., 2., 9., 8., 2., 3., 4., 5., 8., 1.,\n",
       "       2., 2., 2., 8., 5., 9., 0., 3., 6., 5., 9., 9., 9., 0., 2., 2., 3.,\n",
       "       4., 8., 4., 7., 5., 6., 1., 2., 6., 2., 9., 0., 3., 7., 4., 0., 6.,\n",
       "       2., 2., 2., 7., 7., 9., 8., 1., 5., 3., 5., 5., 0., 7., 9., 3., 2.,\n",
       "       0., 6., 1., 5., 8., 0., 0., 3., 7., 1., 8., 9., 9., 6., 6., 0., 6.,\n",
       "       8., 6., 6., 0., 9., 6., 4., 5., 0., 4., 4., 7., 2., 5., 1., 0., 9.,\n",
       "       4., 0., 1., 2., 8., 8., 8., 9., 1., 3., 7., 7., 8., 3., 6., 4., 7.,\n",
       "       3., 1., 3., 3., 6., 4., 6., 9., 1., 3., 9., 4., 3., 7., 1., 8., 6.,\n",
       "       9., 4., 4., 9., 8., 0., 2., 5., 9., 2., 0., 0., 5., 4., 4., 7., 5.,\n",
       "       7., 8., 8., 7., 1., 8., 1., 5., 7., 3., 6., 3., 4., 4., 6., 4., 6.,\n",
       "       5., 6., 0., 8., 4., 8., 5., 2., 6., 7., 1., 5., 0., 5., 5., 1., 4.,\n",
       "       9., 3., 4., 4., 7., 6., 7., 4., 6., 1., 6., 8., 1., 6., 9., 9., 3.,\n",
       "       6., 4., 8., 5., 6., 9., 1., 6., 6., 5., 4., 1., 5., 2., 8., 3., 4.,\n",
       "       6., 4., 2., 7., 5., 2., 4., 2., 3., 8., 1., 1., 4., 9., 8., 3., 8.,\n",
       "       5., 1., 3., 8., 5., 5., 3., 3., 2., 9., 0., 0., 5., 3., 9., 4., 4.,\n",
       "       6., 8., 3., 3., 3., 6., 7., 7., 1., 9., 7., 8., 3., 3., 4., 2., 4.,\n",
       "       1., 9., 9., 9., 9., 1., 0., 7., 2., 0., 4., 2., 4., 9., 7., 6., 2.,\n",
       "       6., 0., 3., 2., 2., 8., 5., 7., 6., 1., 2., 7., 1., 2., 1., 1., 1.,\n",
       "       1., 6., 0., 3., 2., 3., 9., 1., 7., 1., 4., 6., 5., 2., 9., 1., 0.,\n",
       "       9., 8., 1., 0., 6., 7., 2., 8., 9., 5., 1., 2., 5., 5., 5., 8., 1.,\n",
       "       8., 8., 1., 1., 8., 6., 5., 7., 5., 4., 9., 8., 9., 4., 8., 1., 5.,\n",
       "       0., 7., 7., 1., 7., 5., 7., 7., 3., 6., 7., 9., 4., 3., 0., 6., 6.,\n",
       "       0., 9., 4., 3., 9., 2., 1., 8., 8., 2., 9., 0., 4., 0., 9., 1., 3.,\n",
       "       7., 1., 1., 1., 7., 4., 9., 1., 4., 0., 9., 3., 9., 2., 4., 7., 2.,\n",
       "       8., 0., 3., 8., 2., 8., 0., 3., 6., 8., 8., 5., 8., 8., 2., 1., 2.,\n",
       "       6., 3., 9., 6., 6., 5., 6., 4., 9., 3., 2., 6., 3., 0., 4., 1., 1.,\n",
       "       3., 1., 6., 4., 3., 7., 8., 6., 5., 0., 0., 7., 0., 7., 2., 3., 3.,\n",
       "       3., 5., 7., 2., 4., 8., 0., 5., 4., 4., 0., 0., 9., 5., 2., 3., 5.,\n",
       "       2., 5., 7., 1., 4., 1., 2., 8., 7., 9., 4., 6., 7., 1., 7., 2., 1.,\n",
       "       2., 0., 0., 6., 3., 3., 1., 6., 2., 3., 4., 1., 0., 1., 4., 1., 9.,\n",
       "       0., 5., 0., 9., 4., 2., 0., 4., 7., 9., 6., 3., 9., 0., 1., 7., 7.,\n",
       "       2., 1., 3., 0., 1., 8., 7., 8., 7., 5., 7., 7., 3., 2., 3., 5., 3.,\n",
       "       8., 1., 5.])"
      ]
     },
     "execution_count": 22,
     "metadata": {},
     "output_type": "execute_result"
    }
   ],
   "source": [
    "%time clf.predict(X_test)"
   ]
  },
  {
   "cell_type": "code",
   "execution_count": 23,
   "metadata": {},
   "outputs": [
    {
     "name": "stdout",
     "output_type": "stream",
     "text": [
      "CPU times: user 4.08 s, sys: 268 ms, total: 4.34 s\n",
      "Wall time: 1.34 s\n"
     ]
    },
    {
     "data": {
      "text/plain": [
       "array([5, 0, 8, 8, 1, 0, 7, 1, 1, 1, 2, 8, 3, 7, 2, 0, 2, 0, 0, 5, 7, 5,\n",
       "       1, 3, 2, 3, 4, 4, 3, 6, 8, 9, 4, 0, 7, 3, 1, 8, 1, 1, 1, 6, 6, 4,\n",
       "       2, 2, 6, 4, 2, 9, 1, 7, 6, 3, 5, 0, 0, 0, 9, 5, 6, 5, 6, 8, 2, 4,\n",
       "       8, 9, 9, 7, 9, 3, 3, 9, 6, 6, 0, 6, 7, 8, 2, 7, 8, 2, 5, 6, 9, 8,\n",
       "       3, 9, 5, 5, 5, 7, 5, 4, 0, 3, 7, 4, 1, 6, 1, 9, 2, 0, 9, 6, 7, 1,\n",
       "       3, 5, 4, 0, 6, 7, 6, 5, 5, 8, 4, 4, 3, 7, 4, 5, 2, 0, 0, 4, 1, 0,\n",
       "       0, 1, 1, 3, 4, 0, 7, 7, 3, 1, 0, 2, 3, 1, 7, 0, 3, 6, 7, 1, 9, 1,\n",
       "       9, 2, 3, 7, 3, 0, 3, 2, 9, 8, 2, 3, 4, 5, 8, 1, 2, 2, 2, 8, 5, 9,\n",
       "       0, 3, 6, 5, 9, 9, 9, 0, 2, 2, 3, 4, 8, 4, 7, 5, 6, 1, 2, 6, 2, 9,\n",
       "       0, 3, 7, 4, 0, 6, 2, 2, 2, 7, 7, 9, 8, 1, 5, 3, 5, 5, 0, 7, 9, 3,\n",
       "       2, 0, 6, 1, 5, 8, 0, 0, 3, 7, 1, 8, 9, 9, 6, 6, 0, 6, 8, 6, 6, 0,\n",
       "       9, 6, 4, 5, 0, 4, 4, 7, 2, 5, 1, 0, 9, 4, 0, 1, 2, 8, 8, 8, 9, 1,\n",
       "       3, 7, 7, 8, 3, 6, 4, 7, 3, 1, 3, 3, 6, 4, 6, 9, 1, 3, 9, 4, 3, 7,\n",
       "       1, 8, 6, 9, 4, 4, 9, 8, 0, 2, 5, 9, 2, 0, 0, 5, 4, 4, 7, 5, 7, 8,\n",
       "       8, 7, 1, 8, 1, 5, 7, 3, 6, 3, 4, 4, 6, 4, 6, 5, 6, 0, 8, 4, 8, 5,\n",
       "       2, 6, 7, 1, 5, 0, 5, 5, 1, 4, 9, 3, 4, 4, 7, 6, 7, 4, 6, 1, 6, 8,\n",
       "       1, 6, 9, 9, 3, 6, 4, 8, 5, 6, 9, 1, 6, 6, 5, 4, 1, 5, 2, 8, 3, 4,\n",
       "       6, 4, 2, 7, 5, 2, 4, 2, 3, 8, 1, 1, 4, 9, 8, 3, 8, 5, 1, 3, 8, 5,\n",
       "       5, 3, 3, 2, 9, 0, 0, 5, 3, 9, 4, 4, 6, 8, 3, 3, 3, 6, 7, 7, 1, 9,\n",
       "       7, 8, 3, 3, 4, 2, 4, 1, 9, 9, 9, 9, 1, 0, 7, 2, 0, 4, 2, 4, 9, 7,\n",
       "       6, 2, 6, 0, 3, 2, 2, 8, 5, 7, 6, 1, 2, 7, 1, 2, 1, 1, 1, 1, 6, 0,\n",
       "       3, 2, 3, 9, 1, 7, 1, 4, 6, 5, 2, 9, 1, 0, 9, 8, 1, 0, 6, 7, 2, 8,\n",
       "       9, 5, 1, 2, 5, 5, 5, 8, 1, 8, 8, 1, 1, 8, 6, 5, 7, 5, 4, 9, 8, 9,\n",
       "       4, 8, 1, 5, 0, 7, 7, 1, 7, 5, 7, 7, 3, 6, 7, 9, 4, 3, 0, 6, 6, 0,\n",
       "       9, 4, 3, 9, 2, 1, 8, 8, 2, 9, 0, 4, 0, 9, 1, 3, 7, 1, 1, 1, 7, 4,\n",
       "       9, 1, 4, 0, 9, 3, 9, 2, 4, 7, 2, 8, 0, 3, 8, 2, 8, 0, 3, 6, 8, 8,\n",
       "       5, 8, 8, 2, 1, 2, 6, 3, 9, 6, 6, 5, 6, 4, 9, 3, 2, 6, 3, 0, 4, 1,\n",
       "       1, 3, 1, 6, 4, 3, 7, 8, 6, 5, 0, 0, 7, 0, 7, 2, 3, 3, 3, 5, 7, 2,\n",
       "       4, 8, 0, 5, 4, 4, 0, 0, 9, 5, 2, 3, 5, 2, 5, 7, 1, 4, 1, 2, 8, 7,\n",
       "       9, 4, 6, 7, 1, 7, 2, 1, 2, 0, 0, 6, 3, 3, 1, 6, 2, 3, 4, 1, 0, 1,\n",
       "       4, 1, 9, 0, 5, 0, 9, 4, 2, 0, 4, 7, 9, 6, 3, 9, 0, 1, 7, 7, 2, 1,\n",
       "       3, 0, 1, 8, 7, 8, 7, 5, 7, 7, 3, 2, 3, 5, 3, 8, 1, 5], dtype=int32)"
      ]
     },
     "execution_count": 23,
     "metadata": {},
     "output_type": "execute_result"
    }
   ],
   "source": [
    "%time my_clf.predict(X_test)"
   ]
  },
  {
   "cell_type": "code",
   "execution_count": 24,
   "metadata": {},
   "outputs": [
    {
     "name": "stdout",
     "output_type": "stream",
     "text": [
      "CPU times: user 1min 9s, sys: 91.9 ms, total: 1min 9s\n",
      "Wall time: 1min 9s\n"
     ]
    },
    {
     "data": {
      "text/plain": [
       "array([[0., 0., 0., ..., 0., 0., 0.],\n",
       "       [1., 0., 0., ..., 0., 0., 0.],\n",
       "       [0., 0., 0., ..., 0., 1., 0.],\n",
       "       ...,\n",
       "       [0., 0., 0., ..., 0., 1., 0.],\n",
       "       [0., 1., 0., ..., 0., 0., 0.],\n",
       "       [0., 0., 0., ..., 0., 0., 0.]])"
      ]
     },
     "execution_count": 24,
     "metadata": {},
     "output_type": "execute_result"
    }
   ],
   "source": [
    "%time clf.predict_proba(X_test)"
   ]
  },
  {
   "cell_type": "code",
   "execution_count": 25,
   "metadata": {},
   "outputs": [
    {
     "name": "stdout",
     "output_type": "stream",
     "text": [
      "CPU times: user 4.5 s, sys: 220 ms, total: 4.72 s\n",
      "Wall time: 1.44 s\n"
     ]
    },
    {
     "data": {
      "text/plain": [
       "array([[0., 0., 0., ..., 0., 0., 0.],\n",
       "       [1., 0., 0., ..., 0., 0., 0.],\n",
       "       [0., 0., 0., ..., 0., 1., 0.],\n",
       "       ...,\n",
       "       [0., 0., 0., ..., 0., 1., 0.],\n",
       "       [0., 1., 0., ..., 0., 0., 0.],\n",
       "       [0., 0., 0., ..., 0., 0., 0.]])"
      ]
     },
     "execution_count": 25,
     "metadata": {},
     "output_type": "execute_result"
    }
   ],
   "source": [
    "%time my_clf.predict_proba(X_test)"
   ]
  },
  {
   "cell_type": "code",
   "execution_count": 26,
   "metadata": {},
   "outputs": [
    {
     "data": {
      "text/plain": [
       "0.9742857142857143"
      ]
     },
     "execution_count": 26,
     "metadata": {},
     "output_type": "execute_result"
    }
   ],
   "source": [
    "clf.score(X_test, y_test)"
   ]
  },
  {
   "cell_type": "code",
   "execution_count": 27,
   "metadata": {},
   "outputs": [
    {
     "data": {
      "text/plain": [
       "0.9742857142857143"
      ]
     },
     "execution_count": 27,
     "metadata": {},
     "output_type": "execute_result"
    }
   ],
   "source": [
    "my_clf.score(X_test, y_test)"
   ]
  },
  {
   "cell_type": "markdown",
   "metadata": {},
   "source": [
    "Задание 4"
   ]
  },
  {
   "cell_type": "markdown",
   "metadata": {},
   "source": [
    "Нахожу странным использование n_neighbors, посчитанного на другом датасете"
   ]
  },
  {
   "cell_type": "code",
   "execution_count": 28,
   "metadata": {},
   "outputs": [],
   "source": [
    "clf = KNeighborsClassifier(n_neighbors=14, algorithm='kd_tree')\n",
    "my_clf = MyKNeighborsClassifier(n_neighbors=14, algorithm='kd_tree')"
   ]
  },
  {
   "cell_type": "code",
   "execution_count": 29,
   "metadata": {},
   "outputs": [],
   "source": [
    "X_train, X_test, y_train, y_test = train_test_split(mnist.data, mnist.target, test_size=0.01, stratify=mnist.target)"
   ]
  },
  {
   "cell_type": "code",
   "execution_count": 30,
   "metadata": {},
   "outputs": [
    {
     "name": "stdout",
     "output_type": "stream",
     "text": [
      "CPU times: user 38.3 s, sys: 180 ms, total: 38.5 s\n",
      "Wall time: 38.4 s\n"
     ]
    },
    {
     "data": {
      "text/plain": [
       "KNeighborsClassifier(algorithm='kd_tree', leaf_size=30, metric='minkowski',\n",
       "           metric_params=None, n_jobs=1, n_neighbors=14, p=2,\n",
       "           weights='uniform')"
      ]
     },
     "execution_count": 30,
     "metadata": {},
     "output_type": "execute_result"
    }
   ],
   "source": [
    "%time clf.fit(X_train, y_train)"
   ]
  },
  {
   "cell_type": "code",
   "execution_count": 31,
   "metadata": {},
   "outputs": [
    {
     "name": "stdout",
     "output_type": "stream",
     "text": [
      "CPU times: user 31 s, sys: 180 ms, total: 31.2 s\n",
      "Wall time: 31.1 s\n"
     ]
    }
   ],
   "source": [
    "%time my_clf.fit(X_train, y_train)"
   ]
  },
  {
   "cell_type": "code",
   "execution_count": 32,
   "metadata": {},
   "outputs": [
    {
     "name": "stdout",
     "output_type": "stream",
     "text": [
      "CPU times: user 1min 9s, sys: 36 ms, total: 1min 9s\n",
      "Wall time: 1min 10s\n"
     ]
    },
    {
     "data": {
      "text/plain": [
       "array([3., 9., 3., 6., 9., 5., 9., 7., 5., 3., 6., 0., 0., 9., 2., 1., 6.,\n",
       "       4., 5., 3., 5., 8., 9., 1., 4., 6., 0., 2., 8., 5., 1., 7., 8., 6.,\n",
       "       4., 1., 1., 7., 3., 2., 9., 5., 6., 6., 6., 1., 3., 6., 5., 5., 9.,\n",
       "       1., 2., 4., 6., 3., 9., 3., 6., 9., 1., 0., 7., 8., 2., 0., 7., 4.,\n",
       "       1., 3., 3., 7., 0., 4., 0., 3., 1., 1., 2., 4., 2., 0., 7., 9., 9.,\n",
       "       0., 4., 5., 7., 9., 7., 3., 2., 1., 3., 1., 3., 6., 7., 7., 2., 2.,\n",
       "       0., 4., 3., 0., 8., 8., 2., 0., 3., 3., 9., 8., 8., 7., 3., 8., 6.,\n",
       "       0., 9., 5., 5., 9., 8., 9., 5., 6., 2., 7., 4., 0., 6., 9., 1., 2.,\n",
       "       7., 3., 1., 3., 2., 6., 3., 4., 8., 2., 9., 4., 0., 8., 1., 6., 7.,\n",
       "       2., 2., 0., 7., 2., 1., 7., 0., 3., 7., 0., 6., 2., 7., 1., 9., 0.,\n",
       "       4., 4., 1., 0., 3., 3., 8., 9., 3., 1., 6., 1., 0., 7., 5., 7., 1.,\n",
       "       0., 8., 4., 0., 7., 5., 5., 9., 4., 2., 8., 2., 1., 2., 9., 5., 2.,\n",
       "       9., 9., 9., 0., 7., 4., 1., 2., 7., 9., 8., 0., 5., 1., 4., 8., 4.,\n",
       "       5., 8., 6., 4., 9., 1., 1., 1., 0., 5., 0., 7., 7., 7., 4., 3., 4.,\n",
       "       9., 6., 5., 9., 3., 3., 1., 5., 7., 4., 3., 6., 1., 1., 0., 9., 3.,\n",
       "       8., 1., 7., 0., 1., 7., 4., 7., 2., 1., 4., 4., 4., 6., 2., 8., 7.,\n",
       "       1., 6., 1., 7., 0., 3., 0., 7., 7., 1., 9., 6., 9., 8., 6., 8., 7.,\n",
       "       6., 5., 2., 1., 5., 5., 1., 1., 2., 9., 5., 4., 6., 1., 4., 9., 5.,\n",
       "       4., 5., 4., 3., 9., 8., 0., 3., 7., 4., 1., 0., 5., 2., 6., 2., 7.,\n",
       "       5., 1., 0., 5., 3., 3., 0., 6., 4., 2., 8., 5., 0., 6., 3., 8., 1.,\n",
       "       0., 8., 4., 6., 5., 9., 5., 2., 0., 7., 1., 4., 5., 4., 4., 6., 2.,\n",
       "       5., 2., 2., 9., 9., 1., 8., 5., 4., 4., 9., 4., 6., 4., 2., 5., 9.,\n",
       "       8., 6., 5., 8., 3., 2., 6., 1., 7., 1., 0., 2., 6., 2., 2., 4., 3.,\n",
       "       0., 5., 9., 7., 3., 3., 3., 7., 0., 3., 0., 6., 6., 1., 0., 6., 1.,\n",
       "       0., 3., 8., 4., 7., 1., 1., 8., 6., 7., 8., 8., 2., 3., 3., 8., 3.,\n",
       "       4., 0., 5., 1., 8., 6., 9., 8., 8., 3., 9., 0., 4., 6., 3., 2., 3.,\n",
       "       8., 3., 5., 7., 7., 3., 9., 2., 8., 3., 6., 3., 1., 1., 0., 1., 5.,\n",
       "       8., 8., 1., 2., 5., 1., 2., 4., 7., 8., 0., 1., 7., 9., 0., 8., 7.,\n",
       "       6., 9., 8., 9., 9., 9., 8., 1., 5., 2., 9., 7., 0., 8., 0., 0., 6.,\n",
       "       3., 4., 8., 6., 4., 3., 9., 6., 9., 2., 6., 2., 9., 2., 8., 7., 2.,\n",
       "       3., 1., 6., 8., 7., 7., 9., 1., 2., 9., 1., 6., 1., 5., 6., 6., 7.,\n",
       "       9., 7., 3., 1., 3., 6., 7., 8., 0., 7., 5., 2., 6., 5., 6., 8., 8.,\n",
       "       3., 0., 1., 4., 6., 0., 7., 1., 3., 7., 2., 1., 0., 5., 2., 8., 9.,\n",
       "       8., 7., 3., 9., 3., 6., 1., 0., 7., 1., 1., 4., 5., 6., 1., 8., 1.,\n",
       "       5., 4., 0., 1., 6., 8., 5., 8., 9., 0., 2., 4., 5., 2., 9., 0., 1.,\n",
       "       9., 5., 7., 1., 9., 5., 8., 1., 6., 4., 4., 5., 1., 1., 5., 5., 0.,\n",
       "       8., 4., 6., 2., 4., 1., 9., 6., 0., 2., 5., 7., 1., 6., 9., 7., 6.,\n",
       "       1., 2., 9., 7., 6., 2., 3., 3., 3., 5., 9., 5., 4., 3., 1., 0., 0.,\n",
       "       2., 0., 2., 2., 7., 1., 1., 0., 7., 7., 2., 0., 0., 9., 9., 7., 5.,\n",
       "       4., 7., 0., 9., 1., 8., 1., 7., 7., 6., 4., 4., 5., 3., 1., 9., 4.,\n",
       "       9., 2., 3., 2., 4., 0., 3., 6., 6., 7., 2., 3., 4., 5., 1., 7., 6.,\n",
       "       2., 8., 9.])"
      ]
     },
     "execution_count": 32,
     "metadata": {},
     "output_type": "execute_result"
    }
   ],
   "source": [
    "%time clf.predict(X_test)"
   ]
  },
  {
   "cell_type": "code",
   "execution_count": 33,
   "metadata": {},
   "outputs": [
    {
     "name": "stdout",
     "output_type": "stream",
     "text": [
      "CPU times: user 57.3 s, sys: 3.98 ms, total: 57.3 s\n",
      "Wall time: 57.3 s\n"
     ]
    },
    {
     "data": {
      "text/plain": [
       "array([3, 9, 3, 6, 9, 5, 9, 7, 5, 3, 6, 0, 0, 9, 2, 1, 6, 4, 5, 3, 5, 8,\n",
       "       9, 1, 4, 6, 0, 2, 8, 5, 1, 7, 8, 6, 4, 1, 1, 7, 3, 2, 9, 5, 6, 6,\n",
       "       6, 1, 3, 6, 5, 5, 9, 1, 2, 4, 6, 3, 9, 3, 6, 9, 1, 0, 7, 8, 2, 0,\n",
       "       7, 4, 1, 3, 3, 7, 0, 4, 0, 3, 1, 1, 2, 4, 2, 0, 7, 9, 9, 0, 4, 5,\n",
       "       7, 9, 7, 3, 2, 1, 3, 1, 3, 6, 7, 7, 2, 2, 0, 4, 3, 0, 8, 8, 2, 0,\n",
       "       3, 3, 9, 8, 8, 7, 3, 8, 6, 0, 9, 5, 5, 9, 8, 9, 5, 6, 2, 7, 4, 0,\n",
       "       6, 9, 1, 2, 7, 3, 1, 3, 2, 6, 3, 4, 8, 2, 9, 4, 0, 8, 1, 6, 7, 2,\n",
       "       2, 0, 7, 2, 1, 7, 0, 3, 7, 0, 6, 2, 7, 1, 9, 0, 4, 4, 1, 0, 3, 3,\n",
       "       8, 9, 3, 1, 6, 1, 0, 7, 5, 7, 1, 0, 8, 4, 0, 7, 5, 5, 9, 4, 2, 8,\n",
       "       2, 1, 2, 9, 5, 2, 9, 9, 9, 0, 7, 4, 1, 2, 7, 9, 8, 0, 5, 1, 4, 8,\n",
       "       4, 5, 8, 6, 4, 9, 1, 1, 1, 0, 5, 0, 7, 7, 7, 4, 3, 4, 9, 6, 5, 9,\n",
       "       3, 3, 1, 5, 7, 4, 3, 6, 1, 1, 0, 9, 3, 8, 1, 7, 0, 1, 7, 4, 7, 2,\n",
       "       1, 4, 4, 4, 6, 2, 8, 7, 1, 6, 1, 7, 0, 3, 0, 7, 7, 1, 9, 6, 9, 8,\n",
       "       6, 8, 7, 6, 5, 2, 1, 5, 5, 1, 1, 2, 9, 5, 4, 6, 1, 4, 9, 5, 4, 5,\n",
       "       4, 3, 9, 8, 0, 3, 7, 4, 1, 0, 5, 2, 6, 2, 7, 5, 1, 0, 5, 3, 3, 0,\n",
       "       6, 4, 2, 8, 5, 0, 6, 3, 8, 1, 0, 8, 4, 6, 5, 9, 5, 2, 0, 7, 1, 4,\n",
       "       5, 4, 4, 6, 2, 5, 2, 2, 9, 9, 1, 8, 5, 4, 4, 9, 4, 6, 4, 2, 5, 9,\n",
       "       8, 6, 5, 8, 3, 2, 6, 1, 7, 1, 0, 2, 6, 2, 2, 4, 3, 0, 5, 9, 7, 3,\n",
       "       3, 3, 7, 0, 3, 0, 6, 6, 1, 0, 6, 1, 0, 3, 8, 4, 7, 1, 1, 8, 6, 7,\n",
       "       8, 8, 2, 3, 3, 8, 3, 4, 0, 5, 1, 8, 6, 9, 8, 8, 3, 9, 0, 4, 6, 3,\n",
       "       2, 3, 8, 3, 5, 7, 7, 3, 9, 2, 8, 3, 6, 3, 1, 1, 0, 1, 5, 8, 8, 1,\n",
       "       2, 5, 1, 2, 4, 7, 8, 0, 1, 7, 9, 0, 8, 7, 6, 9, 8, 9, 9, 9, 8, 1,\n",
       "       5, 2, 9, 7, 0, 8, 0, 0, 6, 3, 4, 8, 6, 4, 3, 9, 6, 9, 2, 6, 2, 9,\n",
       "       2, 8, 7, 2, 3, 1, 6, 8, 7, 7, 9, 1, 2, 9, 1, 6, 1, 5, 6, 6, 7, 9,\n",
       "       7, 3, 1, 3, 6, 7, 8, 0, 7, 5, 2, 6, 5, 6, 8, 8, 3, 0, 1, 4, 6, 0,\n",
       "       7, 1, 3, 7, 2, 1, 0, 5, 2, 8, 9, 8, 7, 3, 9, 3, 6, 1, 0, 7, 1, 1,\n",
       "       4, 5, 6, 1, 8, 1, 5, 4, 0, 1, 6, 8, 5, 8, 9, 0, 2, 4, 5, 2, 9, 0,\n",
       "       1, 9, 5, 7, 1, 9, 5, 8, 1, 6, 4, 4, 5, 1, 1, 5, 5, 0, 8, 4, 6, 2,\n",
       "       4, 1, 9, 6, 0, 2, 5, 7, 1, 6, 9, 7, 6, 1, 2, 9, 7, 6, 2, 3, 3, 3,\n",
       "       5, 9, 5, 4, 3, 1, 0, 0, 2, 0, 2, 2, 7, 1, 1, 0, 7, 7, 2, 0, 0, 9,\n",
       "       9, 7, 5, 4, 7, 0, 9, 1, 8, 1, 7, 7, 6, 4, 4, 5, 3, 1, 9, 4, 9, 2,\n",
       "       3, 2, 4, 0, 3, 6, 6, 7, 2, 3, 4, 5, 1, 7, 6, 2, 8, 9], dtype=int32)"
      ]
     },
     "execution_count": 33,
     "metadata": {},
     "output_type": "execute_result"
    }
   ],
   "source": [
    "%time my_clf.predict(X_test)"
   ]
  },
  {
   "cell_type": "code",
   "execution_count": 34,
   "metadata": {},
   "outputs": [
    {
     "name": "stdout",
     "output_type": "stream",
     "text": [
      "CPU times: user 1min 9s, sys: 27.9 ms, total: 1min 9s\n",
      "Wall time: 1min 9s\n"
     ]
    },
    {
     "data": {
      "text/plain": [
       "array([[0.        , 0.        , 0.        , ..., 0.        , 0.        ,\n",
       "        0.        ],\n",
       "       [0.        , 0.        , 0.        , ..., 0.        , 0.        ,\n",
       "        1.        ],\n",
       "       [0.        , 0.        , 0.        , ..., 0.        , 0.        ,\n",
       "        0.        ],\n",
       "       ...,\n",
       "       [0.        , 0.        , 1.        , ..., 0.        , 0.        ,\n",
       "        0.        ],\n",
       "       [0.        , 0.        , 0.        , ..., 0.        , 1.        ,\n",
       "        0.        ],\n",
       "       [0.        , 0.        , 0.        , ..., 0.        , 0.        ,\n",
       "        0.92857143]])"
      ]
     },
     "execution_count": 34,
     "metadata": {},
     "output_type": "execute_result"
    }
   ],
   "source": [
    "%time clf.predict_proba(X_test)"
   ]
  },
  {
   "cell_type": "code",
   "execution_count": 35,
   "metadata": {},
   "outputs": [
    {
     "name": "stdout",
     "output_type": "stream",
     "text": [
      "CPU times: user 57.5 s, sys: 12 ms, total: 57.5 s\n",
      "Wall time: 57.5 s\n"
     ]
    },
    {
     "data": {
      "text/plain": [
       "array([[0.        , 0.        , 0.        , ..., 0.        , 0.        ,\n",
       "        0.        ],\n",
       "       [0.        , 0.        , 0.        , ..., 0.        , 0.        ,\n",
       "        1.        ],\n",
       "       [0.        , 0.        , 0.        , ..., 0.        , 0.        ,\n",
       "        0.        ],\n",
       "       ...,\n",
       "       [0.        , 0.        , 1.        , ..., 0.        , 0.        ,\n",
       "        0.        ],\n",
       "       [0.        , 0.        , 0.        , ..., 0.        , 1.        ,\n",
       "        0.        ],\n",
       "       [0.        , 0.        , 0.        , ..., 0.        , 0.        ,\n",
       "        0.92857143]])"
      ]
     },
     "execution_count": 35,
     "metadata": {},
     "output_type": "execute_result"
    }
   ],
   "source": [
    "%time my_clf.predict_proba(X_test)"
   ]
  },
  {
   "cell_type": "code",
   "execution_count": 36,
   "metadata": {},
   "outputs": [
    {
     "data": {
      "text/plain": [
       "0.9642857142857143"
      ]
     },
     "execution_count": 36,
     "metadata": {},
     "output_type": "execute_result"
    }
   ],
   "source": [
    "clf.score(X_test, y_test)"
   ]
  },
  {
   "cell_type": "code",
   "execution_count": 37,
   "metadata": {},
   "outputs": [
    {
     "data": {
      "text/plain": [
       "0.9642857142857143"
      ]
     },
     "execution_count": 37,
     "metadata": {},
     "output_type": "execute_result"
    }
   ],
   "source": [
    "my_clf.score(X_test, y_test)"
   ]
  },
  {
   "cell_type": "markdown",
   "metadata": {},
   "source": [
    "Задание 5"
   ]
  },
  {
   "cell_type": "markdown",
   "metadata": {},
   "source": [
    "seaborn - библиотека для визуализации данных, основана на matplotlib\\<br/>\n",
    "matplotlib - библиотека для построения графиков визуализации данных<br/>\n",
    "train_test_split - разбивает данные на тренеровочную и тестовую части<br/>\n",
    "Pipeline (from sklearn.pipeline import Pipeline) - класс, позволяющий последовательно обрабатывать данные (например PCA + KNN)<br/>\n",
    "StandardScaler (from sklearn.preprocessing import StandardScaler) - нормирует данные в отрезок (-1, 1) так, что mean=0, std=1<br/>\n",
    "ClassifierMixin - базовый класс для классификаторов sklearn<br/>\n",
    "NeighborsBase - базовый класс для ближайших соседей<br/>\n",
    "KNeighborsMixin - базовый класс для поиска к соседей<br/>\n",
    "SupervisedIntegerMixin - базовый класс для обучения на данных (X, y) (метод fit)"
   ]
  },
  {
   "cell_type": "code",
   "execution_count": null,
   "metadata": {},
   "outputs": [],
   "source": []
  }
 ],
 "metadata": {
  "kernelspec": {
   "display_name": "Python 3",
   "language": "python",
   "name": "python3"
  },
  "language_info": {
   "codemirror_mode": {
    "name": "ipython",
    "version": 3
   },
   "file_extension": ".py",
   "mimetype": "text/x-python",
   "name": "python",
   "nbconvert_exporter": "python",
   "pygments_lexer": "ipython3",
   "version": "3.7.0"
  }
 },
 "nbformat": 4,
 "nbformat_minor": 2
}
